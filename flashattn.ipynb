{
 "cells": [
  {
   "cell_type": "code",
   "execution_count": 1,
   "metadata": {},
   "outputs": [],
   "source": [
    "# make sure to use the right version of pytorch when testing on nvidia/amd\n",
    "import torch\n",
    "import torch.nn.functional as F"
   ]
  },
  {
   "cell_type": "code",
   "execution_count": 2,
   "metadata": {},
   "outputs": [],
   "source": [
    "import math\n",
    "M = 32\n",
    "\n",
    "\n",
    "def flashattn(Q: torch.Tensor, K: torch.Tensor, V: torch.Tensor) -> torch.Tensor:\n",
    "    assert Q.shape == K.shape == V.shape\n",
    "    assert len(Q.shape) == 2\n",
    "\n",
    "    K = K.T\n",
    "\n",
    "    # seq length, inner dim of representations\n",
    "    N, d = Q.shape\n",
    "\n",
    "    # of kv vectors per tile\n",
    "    bc = math.ceil(M/(4*d))\n",
    "    tc = math.ceil(N/bc)\n",
    "    K_shared = torch.empty((d, bc), dtype=Q.dtype)\n",
    "    V_shared = torch.empty((bc, d), dtype=Q.dtype)\n",
    "\n",
    "    # of q vectors per tile\n",
    "    br = min(math.ceil(M/(4*d)), d)\n",
    "    tr = math.ceil(N/br)\n",
    "    Q_shared = torch.empty((br, d), dtype=Q.dtype)\n",
    "\n",
    "    # print(f'bc={bc}, br={br}')\n",
    "    # print(f'tc={tc}, tr={tr}')\n",
    "\n",
    "    # output matrix\n",
    "    O = torch.zeros_like(Q)\n",
    "    O_shared = torch.empty_like(Q_shared)\n",
    "\n",
    "    # intermediate rowmaxes\n",
    "    m = torch.full((N,), -torch.inf, dtype=Q.dtype)\n",
    "    m_shared = torch.empty((br, 1), dtype=Q.dtype)\n",
    "    # intermediate normalization constants\n",
    "    l = torch.full((N,), 0, dtype=Q.dtype)\n",
    "    l_shared = torch.empty((br, 1), dtype=Q.dtype)\n",
    "\n",
    "    for i in range(tc):\n",
    "        # load k, v chunks\n",
    "        # make sure we load in k as its transposed version\n",
    "        K_shared[:, :] = K[:, i*bc:(i+1)*bc]\n",
    "        V_shared[:, :] = V[i*bc:(i+1)*bc, :]\n",
    "\n",
    "        for j in range(tr):\n",
    "            # load in q, o, m, l\n",
    "            Q_shared[:, :] = Q[j*br:(j+1)*br, :]\n",
    "            # if i == 0: print(f'Q: {Q_shared}')\n",
    "            O_shared[:, :] = O[j*br:(j+1)*br, :]\n",
    "            m_shared[:, :] = m[j*br:(j+1)*br].unsqueeze(-1)\n",
    "            l_shared[:, :] = l[j*br:(j+1)*br].unsqueeze(-1)\n",
    "            \n",
    "            S = Q_shared @ K_shared\n",
    "\n",
    "            # get row-wise softmax statistics\n",
    "            mt = S.max(dim=1).values.reshape(-1, 1)\n",
    "\n",
    "            Pt = torch.exp(S - mt)\n",
    "            lt = Pt.sum(dim=1).reshape(-1, 1)\n",
    "\n",
    "            # compute new statistics\n",
    "            m_new = torch.max(mt, m_shared)\n",
    "            l_new = (torch.exp(m_shared - m_new) * l_shared) + (torch.exp(mt - m_new) * lt)\n",
    "\n",
    "\n",
    "            # update chunk of output\n",
    "            O_new = (l_shared * torch.exp(m_shared - m_new) * O_shared + torch.exp(mt - m_new) * Pt @ V_shared) / l_new\n",
    "            O[j*br:(j+1)*br, :] = O_new\n",
    "            \n",
    "            m[j*br:(j+1)*br] = m_new.flatten()\n",
    "            l[j*br:(j+1)*br] = l_new.flatten()\n",
    "\n",
    "    return O\n",
    "\n",
    "\n",
    "\n",
    "\n"
   ]
  },
  {
   "cell_type": "code",
   "execution_count": 16,
   "metadata": {},
   "outputs": [
    {
     "data": {
      "text/plain": [
       "(tensor([[0.1744, 0.9305, 0.7961,  ..., 0.4479, 0.5641, 0.9814],\n",
       "         [0.1761, 0.9618, 0.4083,  ..., 0.5819, 0.9369, 0.2934],\n",
       "         [0.4902, 0.1542, 0.9067,  ..., 0.3008, 0.8327, 0.1166],\n",
       "         ...,\n",
       "         [0.0483, 0.5184, 0.7864,  ..., 0.6715, 0.1462, 0.0273],\n",
       "         [0.9808, 0.8851, 0.3725,  ..., 0.0609, 0.7436, 0.6391],\n",
       "         [0.1496, 0.4694, 0.3354,  ..., 0.6871, 0.9578, 0.6432]],\n",
       "        device='cuda:0'),\n",
       " tensor([[0.4482, 0.2526, 0.1135,  ..., 0.2954, 0.4629, 0.0603],\n",
       "         [0.7837, 0.0863, 0.2138,  ..., 0.3781, 0.7255, 0.4389],\n",
       "         [0.7534, 0.3034, 0.3971,  ..., 0.3404, 0.4329, 0.4226],\n",
       "         ...,\n",
       "         [0.8353, 0.1152, 0.5016,  ..., 0.2093, 0.1920, 0.2022],\n",
       "         [0.1042, 0.5667, 0.6792,  ..., 0.7182, 0.0785, 0.1686],\n",
       "         [0.5082, 0.0505, 0.3705,  ..., 0.1122, 0.6319, 0.1609]],\n",
       "        device='cuda:0'),\n",
       " tensor([[0.1417, 0.0555, 0.5136,  ..., 0.5614, 0.0462, 0.7551],\n",
       "         [0.0668, 0.8369, 0.6660,  ..., 0.9265, 0.3773, 0.5001],\n",
       "         [0.0472, 0.6763, 0.2361,  ..., 0.8831, 0.9822, 0.4189],\n",
       "         ...,\n",
       "         [0.2127, 0.3830, 0.7141,  ..., 0.4573, 0.4358, 0.5997],\n",
       "         [0.4309, 0.5263, 0.2466,  ..., 0.4022, 0.4265, 0.4305],\n",
       "         [0.6738, 0.1100, 0.9128,  ..., 0.2534, 0.9295, 0.5345]],\n",
       "        device='cuda:0'))"
      ]
     },
     "execution_count": 16,
     "metadata": {},
     "output_type": "execute_result"
    }
   ],
   "source": [
    "def dumb_attn(Q: torch.Tensor, K: torch.Tensor, V: torch.Tensor) -> torch.Tensor:\n",
    "    \"\"\"equivalent to F.scaled_dot_product_attention(Q, K, V, scale=1)\"\"\"\n",
    "    # P = (Q @ K.T)\n",
    "    # m = P.max(dim=1).values.reshape(-1, 1)\n",
    "    # print((P - m).exp())\n",
    "    # return torch.softmax(Q @ K.T, dim=1) @ V\n",
    "    return F.scaled_dot_product_attention(Q, K, V, scale=1)\n",
    "\n",
    "\n",
    "Q = torch.rand((1024, 32), dtype=torch.float32, device='cuda')\n",
    "K = torch.rand((1024, 32), dtype=torch.float32, device='cuda')\n",
    "V = torch.rand((1024, 32), dtype=torch.float32, device='cuda')\n",
    "\n",
    "# Q = torch.randint(1, 9, (4, 2), device='cuda').float()\n",
    "# K = torch.randint(1, 9, (4, 2), device='cuda').float()\n",
    "# V = torch.randint(1, 9, (4, 2), device='cuda').float()\n",
    "\n",
    "# Q = torch.tensor([[0., 1.],\n",
    "#          [2., 3.]])\n",
    "\n",
    "# K = torch.tensor([[0., 1.5],\n",
    "#          [2., 3.]])\n",
    "\n",
    "# V = torch.tensor([[1., 0.],\n",
    "#          [0., 1.]])\n",
    "Q, K, V\n"
   ]
  },
  {
   "cell_type": "code",
   "execution_count": 12,
   "metadata": {},
   "outputs": [
    {
     "name": "stdout",
     "output_type": "stream",
     "text": [
      "/home/seb/Code/flash-attention/rocm/flash_attention.hip -> /home/seb/Code/flash-attention/rocm/flash_attention_hip.hip [ok]\n",
      "Total number of unsupported CUDA function calls: 0\n",
      "\n",
      "\n",
      "Total number of replaced kernel launches: 1\n"
     ]
    },
    {
     "name": "stderr",
     "output_type": "stream",
     "text": [
      "The input conditions for extension module m have changed. Bumping to version 2 and re-building as m_v2...\n",
      "\u001b[92mSuccessfully preprocessed all matching files.\u001b[0m\n",
      "Detected CUDA files, patching ldflags\n",
      "Emitting ninja build file build/build.ninja...\n",
      "Building extension module m_v2...\n",
      "Allowing ninja to set a default number of workers... (overridable by setting the environment variable MAX_JOBS=N)\n"
     ]
    },
    {
     "name": "stdout",
     "output_type": "stream",
     "text": [
      "[1/2] /opt/rocm-6.1.3/bin/hipcc  -DWITH_HIP -DTORCH_EXTENSION_NAME=m_v2 -DTORCH_API_INCLUDE_EXTENSION_H -DPYBIND11_COMPILER_TYPE=\\\"_gcc\\\" -DPYBIND11_STDLIB=\\\"_libstdcpp\\\" -DPYBIND11_BUILD_ABI=\\\"_cxxabi1011\\\" -isystem /home/seb/Code/pyenvs/rocmenv/lib/python3.12/site-packages/torch/include -isystem /home/seb/Code/pyenvs/rocmenv/lib/python3.12/site-packages/torch/include/torch/csrc/api/include -isystem /home/seb/Code/pyenvs/rocmenv/lib/python3.12/site-packages/torch/include/TH -isystem /home/seb/Code/pyenvs/rocmenv/lib/python3.12/site-packages/torch/include/THC -isystem /home/seb/Code/pyenvs/rocmenv/lib/python3.12/site-packages/torch/include/THH -isystem /opt/rocm-6.1.3/include -isystem /home/seb/miniconda3/include/python3.12 -D_GLIBCXX_USE_CXX11_ABI=0 -fPIC -std=c++17 --offload-arch=\"gfx1100\" -fPIC -D__HIP_PLATFORM_AMD__=1 -DUSE_ROCM=1 -DHIPBLAS_V2 -DCUDA_HAS_FP16=1 -D__HIP_NO_HALF_OPERATORS__=1 -D__HIP_NO_HALF_CONVERSIONS__=1 -fno-gpu-rdc -c /home/seb/Code/flash-attention/rocm/flash_attention_hip.hip -o flash_attention_hip.cuda.o \n",
      "[2/2] c++ flash_attention_hip.cuda.o -shared -L/home/seb/Code/pyenvs/rocmenv/lib/python3.12/site-packages/torch/lib -lc10 -lc10_hip -ltorch_cpu -ltorch_hip -ltorch -ltorch_python -L/opt/rocm-6.1.3/lib -lamdhip64 -o m_v2.so\n",
      "True\n"
     ]
    },
    {
     "name": "stderr",
     "output_type": "stream",
     "text": [
      "Loading extension module m_v2...\n"
     ]
    }
   ],
   "source": [
    "from torch.utils.cpp_extension import load\n",
    "module = load(\n",
    "    name='m',\n",
    "    # sources=['cuda/main.cpp', 'cuda/flash_attention.cu'],\n",
    "    sources=['rocm/flash_attention.hip',],\n",
    "    extra_cflags=['--offload-arch=\"gfx1100\"',],\n",
    "    build_directory='build',\n",
    "    verbose=True\n",
    ")"
   ]
  },
  {
   "cell_type": "code",
   "execution_count": 18,
   "metadata": {},
   "outputs": [
    {
     "name": "stdout",
     "output_type": "stream",
     "text": [
      "Launching kernel with smem size20736\n"
     ]
    },
    {
     "name": "stderr",
     "output_type": "stream",
     "text": [
      "/tmp/ipykernel_24861/3026091974.py:7: UserWarning: Attempting to use hipBLASLt on an unsupported architecture! Overriding blas backend to hipblas (Triggered internally at ../aten/src/ATen/Context.cpp:288.)\n",
      "  return F.scaled_dot_product_attention(Q, K, V, scale=1)\n"
     ]
    },
    {
     "data": {
      "text/plain": [
       "(tensor([[0.4916, 0.5135, 0.5137,  ..., 0.4970, 0.4800, 0.5180],\n",
       "         [0.5019, 0.5060, 0.5127,  ..., 0.5001, 0.4732, 0.4964],\n",
       "         [0.4861, 0.5106, 0.5078,  ..., 0.4990, 0.4702, 0.5149],\n",
       "         ...,\n",
       "         [0.5016, 0.5114, 0.5027,  ..., 0.5043, 0.4689, 0.5047],\n",
       "         [0.4975, 0.5129, 0.5025,  ..., 0.5051, 0.4840, 0.5110],\n",
       "         [0.4961, 0.5070, 0.5096,  ..., 0.4908, 0.4708, 0.5107]],\n",
       "        device='cuda:0'),\n",
       " tensor([[0.4916, 0.5135, 0.5137,  ..., 0.4970, 0.4800, 0.5180],\n",
       "         [0.5019, 0.5060, 0.5127,  ..., 0.5001, 0.4732, 0.4964],\n",
       "         [0.4861, 0.5106, 0.5078,  ..., 0.4990, 0.4702, 0.5149],\n",
       "         ...,\n",
       "         [0.5016, 0.5114, 0.5027,  ..., 0.5043, 0.4689, 0.5047],\n",
       "         [0.4975, 0.5129, 0.5025,  ..., 0.5051, 0.4840, 0.5110],\n",
       "         [0.4961, 0.5070, 0.5096,  ..., 0.4908, 0.4708, 0.5107]],\n",
       "        device='cuda:0'))"
      ]
     },
     "execution_count": 18,
     "metadata": {},
     "output_type": "execute_result"
    }
   ],
   "source": [
    "# torch.isclose(dumb_attn(Q, K, V), flashattn(Q, K, V))\n",
    "# dumb_attn(Q, K, V), flashattn(Q, K, V)\n",
    "dumb_attn(Q, K, V), module.flash_attn(Q, K, V)\n",
    "# F.scaled_dot_product_attention(Q, K, V, scale=1), flashattn(Q, K, V)\n",
    "# module.flash_attn(Q, K, V)"
   ]
  },
  {
   "cell_type": "code",
   "execution_count": null,
   "metadata": {},
   "outputs": [],
   "source": []
  }
 ],
 "metadata": {
  "kernelspec": {
   "display_name": "cudaenv",
   "language": "python",
   "name": "python3"
  },
  "language_info": {
   "codemirror_mode": {
    "name": "ipython",
    "version": 3
   },
   "file_extension": ".py",
   "mimetype": "text/x-python",
   "name": "python",
   "nbconvert_exporter": "python",
   "pygments_lexer": "ipython3",
   "version": "3.12.3"
  }
 },
 "nbformat": 4,
 "nbformat_minor": 2
}
