{
 "cells": [
  {
   "cell_type": "code",
   "execution_count": 1,
   "metadata": {},
   "outputs": [],
   "source": [
    "# make sure to use the right version of pytorch when testing on nvidia/amd\n",
    "import torch\n",
    "import torch.nn.functional as F\n",
    "torch.set_printoptions(sci_mode=False)"
   ]
  },
  {
   "cell_type": "code",
   "execution_count": 2,
   "metadata": {},
   "outputs": [],
   "source": [
    "import math\n",
    "M = 32\n",
    "\n",
    "\n",
    "def flashattn(Q: torch.Tensor, K: torch.Tensor, V: torch.Tensor) -> torch.Tensor:\n",
    "    assert Q.shape == K.shape == V.shape\n",
    "    assert len(Q.shape) == 2\n",
    "\n",
    "    K = K.T\n",
    "\n",
    "    # seq length, inner dim of representations\n",
    "    N, d = Q.shape\n",
    "\n",
    "    # of kv vectors per tile\n",
    "    bc = math.ceil(M/(4*d))\n",
    "    tc = math.ceil(N/bc)\n",
    "    K_shared = torch.empty((d, bc), dtype=Q.dtype)\n",
    "    V_shared = torch.empty((bc, d), dtype=Q.dtype)\n",
    "\n",
    "    # of q vectors per tile\n",
    "    br = min(math.ceil(M/(4*d)), d)\n",
    "    tr = math.ceil(N/br)\n",
    "    Q_shared = torch.empty((br, d), dtype=Q.dtype)\n",
    "\n",
    "    # print(f'bc={bc}, br={br}')\n",
    "    # print(f'tc={tc}, tr={tr}')\n",
    "\n",
    "    # output matrix\n",
    "    O = torch.zeros_like(Q)\n",
    "    O_shared = torch.empty_like(Q_shared)\n",
    "\n",
    "    # intermediate rowmaxes\n",
    "    m = torch.full((N,), -torch.inf, dtype=Q.dtype)\n",
    "    m_shared = torch.empty((br, 1), dtype=Q.dtype)\n",
    "    # intermediate normalization constants\n",
    "    l = torch.full((N,), 0, dtype=Q.dtype)\n",
    "    l_shared = torch.empty((br, 1), dtype=Q.dtype)\n",
    "\n",
    "    for i in range(tc):\n",
    "        # load k, v chunks\n",
    "        # make sure we load in k as its transposed version\n",
    "        K_shared[:, :] = K[:, i*bc:(i+1)*bc]\n",
    "        V_shared[:, :] = V[i*bc:(i+1)*bc, :]\n",
    "\n",
    "        for j in range(tr):\n",
    "            # load in q, o, m, l\n",
    "            Q_shared[:, :] = Q[j*br:(j+1)*br, :]\n",
    "            # if i == 0: print(f'Q: {Q_shared}')\n",
    "            O_shared[:, :] = O[j*br:(j+1)*br, :]\n",
    "            m_shared[:, :] = m[j*br:(j+1)*br].unsqueeze(-1)\n",
    "            l_shared[:, :] = l[j*br:(j+1)*br].unsqueeze(-1)\n",
    "            \n",
    "            S = Q_shared @ K_shared\n",
    "\n",
    "            # get row-wise softmax statistics\n",
    "            mt = S.max(dim=1).values.reshape(-1, 1)\n",
    "\n",
    "            Pt = torch.exp(S - mt)\n",
    "            lt = Pt.sum(dim=1).reshape(-1, 1)\n",
    "\n",
    "            # compute new statistics\n",
    "            m_new = torch.max(mt, m_shared)\n",
    "            l_new = (torch.exp(m_shared - m_new) * l_shared) + (torch.exp(mt - m_new) * lt)\n",
    "\n",
    "\n",
    "            # update chunk of output\n",
    "            O_new = (l_shared * torch.exp(m_shared - m_new) * O_shared + torch.exp(mt - m_new) * Pt @ V_shared) / l_new\n",
    "            O[j*br:(j+1)*br, :] = O_new\n",
    "            \n",
    "            m[j*br:(j+1)*br] = m_new.flatten()\n",
    "            l[j*br:(j+1)*br] = l_new.flatten()\n",
    "\n",
    "    return O\n",
    "\n",
    "\n",
    "\n",
    "\n"
   ]
  },
  {
   "cell_type": "code",
   "execution_count": 125,
   "metadata": {},
   "outputs": [
    {
     "data": {
      "text/plain": [
       "(tensor([[0.9692, 0.8667, 0.2769,  ..., 0.4790, 0.0756, 0.5806],\n",
       "         [0.3923, 0.5615, 0.7637,  ..., 0.9009, 0.4824, 0.7891],\n",
       "         [0.6646, 0.3252, 0.7012,  ..., 0.2593, 0.7358, 0.0787],\n",
       "         ...,\n",
       "         [0.1360, 0.9292, 0.6895,  ..., 0.6885, 0.7935, 0.1575],\n",
       "         [0.6240, 0.0032, 0.4893,  ..., 0.9106, 0.8154, 0.3074],\n",
       "         [0.5620, 0.2218, 0.2180,  ..., 0.9136, 0.2301, 0.7876]],\n",
       "        device='cuda:0', dtype=torch.float16),\n",
       " tensor([[0.0101, 0.1547, 0.5068,  ..., 0.3699, 0.1704, 0.1504],\n",
       "         [0.0531, 0.0361, 0.3989,  ..., 0.4812, 0.9629, 0.5723],\n",
       "         [0.8521, 0.2830, 0.4976,  ..., 0.5796, 0.7998, 0.8433],\n",
       "         ...,\n",
       "         [0.7920, 0.8970, 0.3716,  ..., 0.8301, 0.1196, 0.1761],\n",
       "         [0.6099, 0.3625, 0.9199,  ..., 0.4976, 0.0604, 0.6001],\n",
       "         [0.1112, 0.6943, 0.0289,  ..., 0.2869, 0.7617, 0.9707]],\n",
       "        device='cuda:0', dtype=torch.float16),\n",
       " tensor([[0.5015, 0.7148, 0.1860,  ..., 0.1707, 0.5869, 0.5840],\n",
       "         [0.9722, 0.1265, 0.3621,  ..., 0.8672, 0.4062, 0.6899],\n",
       "         [0.2426, 0.8096, 0.4224,  ..., 0.8320, 0.6343, 0.5591],\n",
       "         ...,\n",
       "         [0.2800, 0.2991, 0.3032,  ..., 0.5005, 0.6636, 0.2101],\n",
       "         [0.3945, 0.4426, 0.5894,  ..., 0.3760, 0.8350, 0.2983],\n",
       "         [0.6035, 0.0748, 0.9316,  ..., 0.1718, 0.3318, 0.5723]],\n",
       "        device='cuda:0', dtype=torch.float16))"
      ]
     },
     "execution_count": 125,
     "metadata": {},
     "output_type": "execute_result"
    }
   ],
   "source": [
    "from math import sqrt\n",
    "def dumb_attn(Q: torch.Tensor, K: torch.Tensor, V: torch.Tensor) -> torch.Tensor:\n",
    "    \"\"\"equivalent to F.scaled_dot_product_attention(Q, K, V, scale=1)\"\"\"\n",
    "    d = Q.shape[1]\n",
    "    return torch.softmax((Q)@ K.T, dim=1) @ V\n",
    "    # return F.scaled_dot_product_attention(Q, K, V, scale=1)\n",
    "\n",
    "\n",
    "# have to support up to like d=4096\n",
    "# we're giving up and only supporting fp16 (like flashattn)\n",
    "Q = torch.rand((64, 256), dtype=torch.float16, device='cuda') \n",
    "K = torch.rand((64, 256), dtype=torch.float16, device='cuda') \n",
    "V = torch.rand((64, 256), dtype=torch.float16, device='cuda') \n",
    "\n",
    "# K[-1] = torch.zeros((2,))\n",
    "# V[-1] = torch.zeros((2,))\n",
    "\n",
    "\n",
    "# Q = torch.randint(1, 9, (8, 4), device='cuda').to(torch.float16)\n",
    "# K = torch.randint(1, 9, (8, 4), device='cuda').to(torch.float16)\n",
    "# V = torch.randint(1, 9, (8, 4), device='cuda').to(torch.float16)\n",
    "\n",
    "# Q = torch.tensor([[0., 1.],\n",
    "#          [2., 3.]])\n",
    "\n",
    "# K = torch.tensor([[0., 1.5],\n",
    "#          [2., 3.]])\n",
    "\n",
    "# V = torch.tensor([[1., 0.],\n",
    "#          [0., 1.]])\n",
    "Q, K, V\n"
   ]
  },
  {
   "cell_type": "code",
   "execution_count": 188,
   "metadata": {},
   "outputs": [
    {
     "name": "stdout",
     "output_type": "stream",
     "text": [
      "/home/seb/Code/flash-attention/rocm/flash_attention.hip -> /home/seb/Code/flash-attention/rocm/flash_attention_hip.hip [ok]\n",
      "Total number of unsupported CUDA function calls: 0\n",
      "\n",
      "\n",
      "Total number of replaced kernel launches: 2\n"
     ]
    },
    {
     "name": "stderr",
     "output_type": "stream",
     "text": [
      "The input conditions for extension module m have changed. Bumping to version 23 and re-building as m_v23...\n",
      "\u001b[92mSuccessfully preprocessed all matching files.\u001b[0m\n",
      "Detected CUDA files, patching ldflags\n",
      "Emitting ninja build file build/build.ninja...\n",
      "Building extension module m_v23...\n",
      "Allowing ninja to set a default number of workers... (overridable by setting the environment variable MAX_JOBS=N)\n"
     ]
    },
    {
     "name": "stdout",
     "output_type": "stream",
     "text": [
      "[1/2] /opt/rocm-6.1.3/bin/hipcc  -DWITH_HIP -DTORCH_EXTENSION_NAME=m_v23 -DTORCH_API_INCLUDE_EXTENSION_H -DPYBIND11_COMPILER_TYPE=\\\"_gcc\\\" -DPYBIND11_STDLIB=\\\"_libstdcpp\\\" -DPYBIND11_BUILD_ABI=\\\"_cxxabi1011\\\" -isystem /home/seb/Code/pyenvs/rocmenv/lib/python3.12/site-packages/torch/include -isystem /home/seb/Code/pyenvs/rocmenv/lib/python3.12/site-packages/torch/include/torch/csrc/api/include -isystem /home/seb/Code/pyenvs/rocmenv/lib/python3.12/site-packages/torch/include/TH -isystem /home/seb/Code/pyenvs/rocmenv/lib/python3.12/site-packages/torch/include/THC -isystem /home/seb/Code/pyenvs/rocmenv/lib/python3.12/site-packages/torch/include/THH -isystem /opt/rocm-6.1.3/include -isystem /home/seb/miniconda3/include/python3.12 -D_GLIBCXX_USE_CXX11_ABI=0 -fPIC -std=c++17 --offload-arch=\"gfx1100\" -fPIC -D__HIP_PLATFORM_AMD__=1 -DUSE_ROCM=1 -DHIPBLAS_V2 -DCUDA_HAS_FP16=1 -D__HIP_NO_HALF_OPERATORS__=1 -D__HIP_NO_HALF_CONVERSIONS__=1 -fno-gpu-rdc -c /home/seb/Code/flash-attention/rocm/flash_attention_hip.hip -o flash_attention_hip.cuda.o \n",
      "[2/2] c++ flash_attention_hip.cuda.o -shared -L/home/seb/Code/pyenvs/rocmenv/lib/python3.12/site-packages/torch/lib -lc10 -lc10_hip -ltorch_cpu -ltorch_hip -ltorch -ltorch_python -L/opt/rocm-6.1.3/lib -lamdhip64 -o m_v23.so\n",
      "True\n"
     ]
    },
    {
     "name": "stderr",
     "output_type": "stream",
     "text": [
      "Loading extension module m_v23...\n"
     ]
    }
   ],
   "source": [
    "from torch.utils.cpp_extension import load\n",
    "module = load(\n",
    "    name='m',\n",
    "    # sources=['cuda/main.cpp', 'cuda/flash_attention.cu'],\n",
    "    sources=['rocm/flash_attention.hip',],\n",
    "    extra_cflags=['--offload-arch=\"gfx1100\"',],\n",
    "    build_directory='build',\n",
    "    verbose=True\n",
    ")"
   ]
  },
  {
   "cell_type": "code",
   "execution_count": 189,
   "metadata": {},
   "outputs": [
    {
     "data": {
      "text/plain": [
       "tensor(0.0007, device='cuda:0', dtype=torch.float16)"
      ]
     },
     "execution_count": 189,
     "metadata": {},
     "output_type": "execute_result"
    }
   ],
   "source": [
    "# torch.isclose(dumb_attn(Q, K, V), flashattn(Q, K, V))\n",
    "# dumb_attn(Q, K, V), flashattn(Q, K, V)\n",
    "\n",
    "# F.scaled_dot_product_attention(Q, K, V, scale=1), flashattn(Q, K, V)\n",
    "# module.flash_attn(Q, K, V)\n",
    "torch.set_printoptions(profile='full', sci_mode=False)\n",
    "r1 = dumb_attn(Q, K, V)\n",
    "r2 = module.flash_attn(Q, K, V)\n",
    "(r1-r2).abs().mean()\n",
    "# r1, r2\n",
    "\n",
    "\n",
    "# # r1, dumb_attn(Q.float(), K.float(), V.float()), r2\n",
    "# # r1, r2[:50]\n",
    "# dumb_attn(Q, K, V), module.flash_attn(Q, K, V)"
   ]
  },
  {
   "cell_type": "code",
   "execution_count": 186,
   "metadata": {},
   "outputs": [
    {
     "name": "stdout",
     "output_type": "stream",
     "text": [
      "Difference on (4096, 1024) tensors: 0.006534576416015625\n",
      "\n",
      "\n"
     ]
    }
   ],
   "source": [
    "\n",
    "def test_flashattn():\n",
    "    diff = lambda r1, r2: (r1-r2).abs().mean()\n",
    "    dims = ((4096, 1024),)\n",
    "    # dims = ((48, 32), (64, 256), (1024, 256), (4096, 1024))\n",
    "    for N, d in dims:\n",
    "        Q = torch.rand((N, d), dtype=torch.float16, device='cuda') \n",
    "        K = torch.rand((N, d), dtype=torch.float16, device='cuda') \n",
    "        V = torch.rand((N, d), dtype=torch.float16, device='cuda') \n",
    "\n",
    "        # print(f'Difference on ({N}, {d}) tensors: {diff(dumb_attn(Q, K, V), F.scaled_dot_product_attention(Q, K, V, scale=1))}\\n\\n')\n",
    "        print(f'Difference on ({N}, {d}) tensors: {diff(module.flash_attn(Q, K, V), F.scaled_dot_product_attention(Q, K, V, scale=1))}\\n\\n')\n",
    "        # print(f'Difference on ({N}, {d}) tensors: {diff(module.flash_attn(Q, K, V), dumb_attn(Q, K, V))}\\n\\n')\n",
    "\n",
    "torch.set_printoptions(profile='short', sci_mode=False)\n",
    "test_flashattn()\n",
    "torch.set_printoptions(profile='default', sci_mode=False)"
   ]
  },
  {
   "cell_type": "code",
   "execution_count": null,
   "metadata": {},
   "outputs": [],
   "source": []
  }
 ],
 "metadata": {
  "kernelspec": {
   "display_name": "cudaenv",
   "language": "python",
   "name": "python3"
  },
  "language_info": {
   "codemirror_mode": {
    "name": "ipython",
    "version": 3
   },
   "file_extension": ".py",
   "mimetype": "text/x-python",
   "name": "python",
   "nbconvert_exporter": "python",
   "pygments_lexer": "ipython3",
   "version": "3.12.3"
  }
 },
 "nbformat": 4,
 "nbformat_minor": 2
}
